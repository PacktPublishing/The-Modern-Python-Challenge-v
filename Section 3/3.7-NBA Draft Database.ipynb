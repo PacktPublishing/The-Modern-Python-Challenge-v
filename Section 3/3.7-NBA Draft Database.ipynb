{
 "cells": [
  {
   "cell_type": "code",
   "execution_count": 1,
   "metadata": {},
   "outputs": [],
   "source": [
    "import pandas as pd\n",
    "import sqlite3 as sql"
   ]
  },
  {
   "cell_type": "code",
   "execution_count": 2,
   "metadata": {},
   "outputs": [],
   "source": [
    "conn = sql.connect('nba.db')\n",
    "action = conn.cursor()"
   ]
  },
  {
   "cell_type": "code",
   "execution_count": 3,
   "metadata": {},
   "outputs": [],
   "source": [
    "nba = pd.read_csv('nba_draft.csv')"
   ]
  },
  {
   "cell_type": "code",
   "execution_count": 5,
   "metadata": {},
   "outputs": [
    {
     "name": "stdout",
     "output_type": "stream",
     "text": [
      "<class 'pandas.core.frame.DataFrame'>\n",
      "RangeIndex: 3961 entries, 0 to 3960\n",
      "Data columns (total 35 columns):\n",
      "column_a            3961 non-null int64\n",
      "player              3961 non-null object\n",
      "all_nba             3961 non-null int64\n",
      "all_star            3961 non-null int64\n",
      "draft_yr            3961 non-null int64\n",
      "pk                  3961 non-null int64\n",
      "team                3961 non-null object\n",
      "college             3961 non-null object\n",
      "yrs                 3961 non-null int64\n",
      "games               3961 non-null int64\n",
      "minutes_played      3961 non-null int64\n",
      "pts                 3961 non-null int64\n",
      "trb                 3961 non-null int64\n",
      "ast                 3961 non-null int64\n",
      "fg_percentage       3961 non-null float64\n",
      "tp_percentage       3961 non-null float64\n",
      "ft_percentage       3961 non-null float64\n",
      "minutes_per_game    3961 non-null float64\n",
      "points_per_game     3961 non-null float64\n",
      "trb_per_game        3961 non-null float64\n",
      "assits_per_game     3961 non-null float64\n",
      "win_share           3961 non-null float64\n",
      "ws_per_game         3961 non-null float64\n",
      "bpm                 3961 non-null float64\n",
      "vorp                3961 non-null float64\n",
      "executive           3961 non-null object\n",
      "tenure              3961 non-null object\n",
      "exec_id             3961 non-null int64\n",
      "exec_draft_exp      3961 non-null int64\n",
      "attend_college      3961 non-null bool\n",
      "first_year          3961 non-null bool\n",
      "second_year         3961 non-null bool\n",
      "third_year          3961 non-null bool\n",
      "fourth_year         3961 non-null bool\n",
      "fifth_year          3961 non-null bool\n",
      "dtypes: bool(6), float64(11), int64(13), object(5)\n",
      "memory usage: 920.7+ KB\n"
     ]
    }
   ],
   "source": [
    "type(nba)\n",
    "nba.info()"
   ]
  },
  {
   "cell_type": "code",
   "execution_count": 6,
   "metadata": {},
   "outputs": [],
   "source": [
    "nba = nba[['player', 'draft_yr', 'pk', 'team', 'college', \n",
    "           'yrs', 'games', 'minutes_played','pts', 'fg_percentage', 'ft_percentage']]"
   ]
  },
  {
   "cell_type": "code",
   "execution_count": 7,
   "metadata": {},
   "outputs": [],
   "source": [
    "action.execute(\"DROP TABLE IF EXISTS  players \")\n",
    "action.execute(\"\"\"CREATE TABLE players(\n",
    "                    player text,\n",
    "                    draft_yr integer,\n",
    "                    pk integer,\n",
    "                    team text,\n",
    "                    college text,\n",
    "                    yrs integer,\n",
    "                    games integer,\n",
    "                    minutes_played integer,\n",
    "                    pts integer,\n",
    "                    fg_percentage real,\n",
    "                    ft_percentage real)\"\"\")\n",
    "conn.commit()"
   ]
  },
  {
   "cell_type": "code",
   "execution_count": 8,
   "metadata": {},
   "outputs": [],
   "source": [
    "nba.to_sql('players', conn, if_exists='append', index=False)"
   ]
  },
  {
   "cell_type": "code",
   "execution_count": 9,
   "metadata": {},
   "outputs": [
    {
     "data": {
      "text/plain": [
       "<sqlite3.Cursor at 0x1c52cf673b0>"
      ]
     },
     "execution_count": 9,
     "metadata": {},
     "output_type": "execute_result"
    }
   ],
   "source": [
    "action.execute(\"SELECT * FROM players\")"
   ]
  },
  {
   "cell_type": "code",
   "execution_count": 10,
   "metadata": {},
   "outputs": [
    {
     "data": {
      "text/plain": [
       "[('Robert Parish',\n",
       "  1976,\n",
       "  8,\n",
       "  'GSW',\n",
       "  'Centenary College of Louisiana',\n",
       "  21,\n",
       "  1611,\n",
       "  45704,\n",
       "  23334,\n",
       "  0.537,\n",
       "  0.721),\n",
       " ('Sonny Parker',\n",
       "  1976,\n",
       "  17,\n",
       "  'GSW',\n",
       "  'Texas A&M University',\n",
       "  6,\n",
       "  452,\n",
       "  10916,\n",
       "  4471,\n",
       "  0.501,\n",
       "  0.755),\n",
       " ('Marshall Rogers',\n",
       "  1976,\n",
       "  34,\n",
       "  'GSW',\n",
       "  'University of Texas-Pan American',\n",
       "  1,\n",
       "  26,\n",
       "  176,\n",
       "  100,\n",
       "  0.371,\n",
       "  0.9329999999999999)]"
      ]
     },
     "execution_count": 10,
     "metadata": {},
     "output_type": "execute_result"
    }
   ],
   "source": [
    "action.fetchmany(3)"
   ]
  },
  {
   "cell_type": "code",
   "execution_count": 11,
   "metadata": {},
   "outputs": [
    {
     "data": {
      "text/plain": [
       "[(3961,)]"
      ]
     },
     "execution_count": 11,
     "metadata": {},
     "output_type": "execute_result"
    }
   ],
   "source": [
    "action.execute(\"SELECT Count(*) FROM players\")\n",
    "action.fetchall()"
   ]
  },
  {
   "cell_type": "code",
   "execution_count": 12,
   "metadata": {},
   "outputs": [
    {
     "data": {
      "text/plain": [
       "[(187.46149962130775,)]"
      ]
     },
     "execution_count": 12,
     "metadata": {},
     "output_type": "execute_result"
    }
   ],
   "source": [
    "action.execute(\"SELECT avg(games) FROM players\")\n",
    "action.fetchall()"
   ]
  },
  {
   "cell_type": "code",
   "execution_count": 13,
   "metadata": {},
   "outputs": [
    {
     "data": {
      "text/plain": [
       "[(621.875,)]"
      ]
     },
     "execution_count": 13,
     "metadata": {},
     "output_type": "execute_result"
    }
   ],
   "source": [
    "action.execute(\"SELECT avg(games) FROM players WHERE pk <= 10\")\n",
    "action.fetchall()"
   ]
  },
  {
   "cell_type": "code",
   "execution_count": null,
   "metadata": {},
   "outputs": [],
   "source": []
  },
  {
   "cell_type": "code",
   "execution_count": 14,
   "metadata": {},
   "outputs": [
    {
     "data": {
      "text/plain": [
       "[('0',),\n",
       " ('Alabama A&M University',),\n",
       " ('Alabama State University',),\n",
       " ('Albany State University',),\n",
       " ('Albertson College of Idaho',),\n",
       " ('Albright College',),\n",
       " ('Alcorn State University',),\n",
       " ('Alliant International University',),\n",
       " ('American International College',),\n",
       " ('American University',),\n",
       " ('Angelo State University',),\n",
       " ('Appalachian State University',),\n",
       " ('Arizona State University',),\n",
       " ('Arkansas State University',),\n",
       " ('Armstrong Atlantic State University',),\n",
       " ('Auburn University',),\n",
       " ('Auburn University at Montgomery',),\n",
       " ('Augsburg College',),\n",
       " ('Augustana College (IL)',),\n",
       " ('Augustana College (SD)',),\n",
       " ('Austin Peay State University',),\n",
       " ('Ball State University',),\n",
       " ('Barton County Community College',),\n",
       " ('Baylor University',),\n",
       " ('Bellarmine University',),\n",
       " ('Benedict College',),\n",
       " ('Bentley College',),\n",
       " ('Biola University',),\n",
       " ('Bloomfield College',),\n",
       " ('Bloomsburg University of Pennsylvania',),\n",
       " ('Boise State University',),\n",
       " ('Boston College',),\n",
       " ('Boston University',),\n",
       " ('Bowling Green State University',),\n",
       " ('Bradley University',),\n",
       " ('Brandeis University',),\n",
       " ('Briar Cliff University',),\n",
       " ('Brigham Young University',),\n",
       " ('Brigham Young University Hawaii',),\n",
       " ('Bucknell University',),\n",
       " ('Butler County Community College',),\n",
       " ('Butler University',),\n",
       " ('California Polytechnic State University, San Luis Obispo',),\n",
       " ('California State University, Bakersfield',),\n",
       " ('California State University, Dominguez Hills',),\n",
       " ('California State University, Fresno',),\n",
       " ('California State University, Fullerton',),\n",
       " ('California State University, Long Beach',),\n",
       " ('California State University, Northridge',),\n",
       " ('Cameron University',),\n",
       " ('Campbell University',),\n",
       " ('Canisius College',),\n",
       " ('Carson-Newman College',),\n",
       " ('Cawtaba College',),\n",
       " ('Centenary College of Louisiana',),\n",
       " ('Central Connecticut State University',),\n",
       " ('Central Michigan University',),\n",
       " ('Central State University',),\n",
       " ('Central Washington University',),\n",
       " ('Chaminade University of Honolulu',),\n",
       " ('Cheyney University of Pennsylvania',),\n",
       " ('Chicago State University',),\n",
       " ('Christopher Newport University',),\n",
       " ('Clark University',),\n",
       " ('Clemson University',),\n",
       " ('Cleveland State University',),\n",
       " ('Colgate University',),\n",
       " ('College of Charleston',),\n",
       " ('College of Santa Fe',),\n",
       " ('College of William & Mary',),\n",
       " ('College of the Holy Cross',),\n",
       " ('College of the Sequoias',),\n",
       " ('Colorado State University',),\n",
       " ('Columbia University',),\n",
       " ('Columbus State University',),\n",
       " ('Concord University',),\n",
       " ('Coppin State University',),\n",
       " ('Cornell University',),\n",
       " ('Creighton University',),\n",
       " ('Dartmouth College',),\n",
       " ('Davidson College',),\n",
       " ('DePaul University',),\n",
       " ('Delta State University',),\n",
       " ('Dillard University',),\n",
       " ('Doane College',),\n",
       " ('Drake University',),\n",
       " ('Drexel University',),\n",
       " ('Drury University',),\n",
       " ('Duke University',),\n",
       " ('Duquesne University',),\n",
       " ('East Carolina University',),\n",
       " ('East Oregon University',),\n",
       " ('East Tennessee State University',),\n",
       " ('East Texas State University',),\n",
       " ('Eastern Illinois University',),\n",
       " ('Eastern Kentucky University',),\n",
       " ('Eastern Michigan University',),\n",
       " ('Eastern Washington University',),\n",
       " ('Edinboro University of Pennsylvania',),\n",
       " ('Elizabeth City State University',),\n",
       " ('Fairfield University',),\n",
       " ('Fairleigh Dickinson University',),\n",
       " ('Fairmont State University',),\n",
       " ('Florida Agricultural and Mechanical University',),\n",
       " ('Florida International University',),\n",
       " ('Florida Southern College',),\n",
       " ('Florida State University',),\n",
       " ('Fordham University',),\n",
       " ('Fort Hays State University',),\n",
       " ('Framingham State College',),\n",
       " ('Franciscan University of Steubenville',),\n",
       " ('Franklin & Marshall College',),\n",
       " ('Furman University',),\n",
       " ('Gardner-Webb University',),\n",
       " ('George Fox University',),\n",
       " ('George Mason University',),\n",
       " ('George Washington University',),\n",
       " ('Georgetown College',),\n",
       " ('Georgetown University',),\n",
       " ('Georgia Institute of Technology',),\n",
       " ('Georgia Southern University',),\n",
       " ('Georgia State University',),\n",
       " ('Gonzaga University',),\n",
       " ('Graceland University',),\n",
       " ('Grambling State University',),\n",
       " ('Grand Canyon University',),\n",
       " ('Hamilton College',),\n",
       " ('Hampton University',),\n",
       " ('Hardin-Simmons University',),\n",
       " ('Harding University',),\n",
       " ('Hartwick College',),\n",
       " ('Harvard University',),\n",
       " ('High Point University',),\n",
       " ('Hofstra University',),\n",
       " ('Houston Baptist University',),\n",
       " ('Howard University',),\n",
       " ('Huron University',),\n",
       " ('Idaho State University',),\n",
       " ('Illinois State University',),\n",
       " ('Illinois Wesleyan University',),\n",
       " ('Indian Hills Community College',),\n",
       " ('Indiana State University',),\n",
       " ('Indiana University',),\n",
       " ('Indiana University-Purdue University Indianapolis',),\n",
       " ('Iona College',),\n",
       " ('Iowa State University',),\n",
       " ('Jackson State University',),\n",
       " ('Jacksonville University',),\n",
       " ('James Madison University',),\n",
       " ('John Carroll University',),\n",
       " ('Johnson C. Smith University',),\n",
       " ('Kansas State University',),\n",
       " ('Kent State University',),\n",
       " ('Kentucky State University',),\n",
       " ('Kenyon College',),\n",
       " (\"King's College\",),\n",
       " ('La Salle University',),\n",
       " ('Lafayette College',),\n",
       " ('Lamar University',),\n",
       " ('Lambath University',),\n",
       " ('LeMoyne College',),\n",
       " ('LeMoyne-Owen College',),\n",
       " ('Lehigh University',),\n",
       " ('Lewis University',),\n",
       " ('Lewis and Clark College',),\n",
       " ('Liberty University',),\n",
       " ('Lincoln University of Missouri',),\n",
       " ('Linfield College',),\n",
       " ('Lipscomb University',),\n",
       " ('Long Island University',),\n",
       " ('Long Island University, C.W. Post Campus',),\n",
       " ('Longwood University',),\n",
       " ('Louisiana College',),\n",
       " ('Louisiana State University',),\n",
       " ('Louisiana Tech University',),\n",
       " ('Loyola College in Maryland',),\n",
       " ('Loyola Marymount University',),\n",
       " ('Loyola University of Chicago',),\n",
       " ('Malone College',),\n",
       " ('Manhattan College',),\n",
       " ('Marion College',),\n",
       " ('Marist College',),\n",
       " ('Marquette University',),\n",
       " ('Marshall University',),\n",
       " ('Marymount College',),\n",
       " ('McKendree College',),\n",
       " ('McMurry University',),\n",
       " ('McNeese State University',),\n",
       " ('Mercer University',),\n",
       " ('Mercyhurst College',),\n",
       " ('Merrimack College',),\n",
       " ('Miami University',),\n",
       " ('Michigan State University',),\n",
       " ('Middle Tennessee State University',),\n",
       " ('Midwestern State University',),\n",
       " ('Millersville University of Pennsylvania',),\n",
       " ('Milligan College',),\n",
       " ('Minnesota State University, Mankato',),\n",
       " ('Mississippi State University',),\n",
       " ('Mississippi Valley State University',),\n",
       " ('Missouri Southern State University',),\n",
       " ('Missouri State University',),\n",
       " ('Missouri Western State College',),\n",
       " ('Monmouth University',),\n",
       " ('Montana State University',),\n",
       " ('Montana State University, Billings',),\n",
       " ('Morehead State University',),\n",
       " ('Morgan State University',),\n",
       " ('Morris Brown College',),\n",
       " (\"Mount St. Mary's University\",),\n",
       " ('Murray State University',),\n",
       " ('Myers University',),\n",
       " ('Nasson College',),\n",
       " ('New Jersey City University',),\n",
       " ('New Mexico State University',),\n",
       " ('New York Institute of Technology',),\n",
       " ('Newberry College',),\n",
       " ('Niagara University',),\n",
       " ('Nicholls State University',),\n",
       " ('Norfolk State University',),\n",
       " ('North Carolina Agricultural and Technical State University',),\n",
       " ('North Carolina Central University',),\n",
       " ('North Carolina State University',),\n",
       " ('North Dakota State University',),\n",
       " ('North Park University',),\n",
       " ('Northeast Mississippi Community College',),\n",
       " ('Northeastern Illinois University',),\n",
       " ('Northeastern University',),\n",
       " ('Northern Arizona University',),\n",
       " ('Northern Illinois University',),\n",
       " ('Northern Michigan University',),\n",
       " ('Northern State University',),\n",
       " ('Northwest Missouri State University',),\n",
       " ('Northwestern Oklahoma State University',),\n",
       " ('Northwestern State University',),\n",
       " ('Northwestern University',),\n",
       " ('Oakland University',),\n",
       " ('Oberlin College',),\n",
       " ('Ohio State University',),\n",
       " ('Ohio University',),\n",
       " ('Okaloosa-Walton Community College',),\n",
       " ('Oklahoma Christian University',),\n",
       " ('Oklahoma City University',),\n",
       " ('Oklahoma Panhandle State University',),\n",
       " ('Oklahoma State University',),\n",
       " ('Old Dominion University',),\n",
       " ('Oral Roberts University',),\n",
       " ('Oregon State University',),\n",
       " ('Pace University',),\n",
       " ('Pacific University',),\n",
       " ('Pennsylvania State University',),\n",
       " ('Pepperdine University',),\n",
       " ('Philadelphia University',),\n",
       " ('Phillips University',),\n",
       " ('Pikeville College',),\n",
       " ('Point Park University',),\n",
       " ('Portland State University',),\n",
       " ('Prairie View A&M University',),\n",
       " ('Presbyterian College',),\n",
       " ('Princeton University',),\n",
       " ('Providence College',),\n",
       " ('Purdue University',),\n",
       " ('Regis University',),\n",
       " ('Rice University',),\n",
       " ('Rider University',),\n",
       " ('Ripon College',),\n",
       " ('Robert Morris University (PA)',),\n",
       " ('Rocky Mountain College',),\n",
       " ('Rutgers University',),\n",
       " ('Rutgers University-Camden',),\n",
       " ('Sacred Heart University',),\n",
       " (\"Saint Augustine's College\",),\n",
       " ('Saint Francis University',),\n",
       " (\"Saint Joseph's University\",),\n",
       " ('Saint Louis University',),\n",
       " (\"Saint Mary's College of California\",),\n",
       " (\"Saint Mary's University\",),\n",
       " (\"Saint Paul's College\",),\n",
       " (\"Saint Peter's College\",),\n",
       " ('Salem International University',),\n",
       " ('Sam Houston State University',),\n",
       " ('Samford University',),\n",
       " ('San Diego State University',),\n",
       " ('San Jose State University',),\n",
       " ('Santa Clara University',),\n",
       " ('Savannah State University',),\n",
       " ('Seattle University',),\n",
       " ('Seton Hall University',),\n",
       " ('Seward County Community College',),\n",
       " ('Shaw University',),\n",
       " ('Siena College',),\n",
       " ('Simon Fraser University',),\n",
       " ('Slippery Rock University of Pennsylvania',),\n",
       " ('South Carolina State University',),\n",
       " ('South Dakota State University',),\n",
       " ('Southeast Missouri State University',),\n",
       " ('Southeastern Illinois College',),\n",
       " ('Southeastern Oklahoma State University',),\n",
       " ('Southern Illinois University',),\n",
       " ('Southern Methodist University',),\n",
       " ('Southern Nazarene University',),\n",
       " ('Southern University and A&M College',),\n",
       " ('Southern Utah University',),\n",
       " ('Southwstern University',),\n",
       " ('St. Bonaventure University',),\n",
       " ('St. Francis College',),\n",
       " (\"St. John's University\",),\n",
       " (\"St. Mary's University\",),\n",
       " ('St. Thomas University',),\n",
       " ('Stanford University',),\n",
       " ('State University of New York at Potsdam',),\n",
       " ('State University of West Georgia',),\n",
       " ('Stephen F. Austin State University',),\n",
       " ('Stetson University',),\n",
       " ('Stonehill College',),\n",
       " ('Syracuse University',),\n",
       " ('Temple University',),\n",
       " ('Tennessee State University',),\n",
       " ('Tennessee Technological University',),\n",
       " ('Texas A&M University',),\n",
       " ('Texas A&M University-Kingsville',),\n",
       " ('Texas Christian University',),\n",
       " ('Texas Southern University',),\n",
       " ('Texas State University',),\n",
       " ('Texas Tech University',),\n",
       " ('The Citadel',),\n",
       " ('Thomas More College',),\n",
       " ('Towson University',),\n",
       " ('Trenton State University',),\n",
       " ('Trinity Valley Community College',),\n",
       " ('Tulane University',),\n",
       " ('Tuskegee University',),\n",
       " ('Union College',),\n",
       " ('United States Air Force Academy',),\n",
       " ('United States Military Academy',),\n",
       " ('United States Naval Academy',),\n",
       " ('University of Akron',),\n",
       " ('University of Alabama',),\n",
       " ('University of Alabama at Birmingham',),\n",
       " ('University of Alabama at Huntsville',),\n",
       " ('University of Alaska Anchorage',),\n",
       " ('University of Arizona',),\n",
       " ('University of Arkansas',),\n",
       " ('University of Arkansas at Little Rock',),\n",
       " ('University of Bridgeport',),\n",
       " ('University of Calgary',),\n",
       " ('University of California',),\n",
       " ('University of California, Davis',),\n",
       " ('University of California, Irvine',),\n",
       " ('University of California, Los Angeles',),\n",
       " ('University of California, Riverside',),\n",
       " ('University of California, San Diego',),\n",
       " ('University of California, Santa Barbara',),\n",
       " ('University of Central Arkansas',),\n",
       " ('University of Central Florida',),\n",
       " ('University of Cincinnati',),\n",
       " ('University of Colorado',),\n",
       " ('University of Connecticut',),\n",
       " ('University of Dayton',),\n",
       " ('University of Delaware',),\n",
       " ('University of Denver',),\n",
       " ('University of Detroit Mercy',),\n",
       " ('University of Evansville',),\n",
       " ('University of Florida',),\n",
       " ('University of Georgia',),\n",
       " ('University of Hartford',),\n",
       " ('University of Hawaii',),\n",
       " ('University of Houston',),\n",
       " ('University of Idaho',),\n",
       " ('University of Illinois at Chicago',),\n",
       " ('University of Illinois at Urbana-Champaign',),\n",
       " ('University of Iowa',),\n",
       " ('University of Kansas',),\n",
       " ('University of Kentucky',),\n",
       " ('University of Lethbridge',),\n",
       " ('University of Louisiana at Lafayette',),\n",
       " ('University of Louisiana at Monroe',),\n",
       " ('University of Louisville',),\n",
       " ('University of Maine',),\n",
       " ('University of Maryland',),\n",
       " ('University of Maryland, Baltimore County',),\n",
       " ('University of Massachusetts Amherst',),\n",
       " ('University of Massachusetts Boston',),\n",
       " ('University of Memphis',),\n",
       " ('University of Miami',),\n",
       " ('University of Michigan',),\n",
       " ('University of Minnesota',),\n",
       " ('University of Mississippi',),\n",
       " ('University of Missouri',),\n",
       " ('University of Missouri-Kansas City',),\n",
       " ('University of Montana',),\n",
       " ('University of Montana-Western',),\n",
       " ('University of Nebraska',),\n",
       " ('University of Nebraska at Kearney',),\n",
       " ('University of Nebraska at Omaha',),\n",
       " ('University of Nevada, Las Vegas',),\n",
       " ('University of Nevada, Reno',),\n",
       " ('University of New Hampshire',),\n",
       " ('University of New Haven',),\n",
       " ('University of New Mexico',),\n",
       " ('University of New Orleans',),\n",
       " ('University of North Alabama',),\n",
       " ('University of North Carolina',),\n",
       " ('University of North Carolina at Charlotte',),\n",
       " ('University of North Carolina at Pembroke',),\n",
       " ('University of North Carolina at Wilmington',),\n",
       " ('University of North Dakota',),\n",
       " ('University of North Texas',),\n",
       " ('University of Notre Dame',),\n",
       " ('University of Oklahoma',),\n",
       " ('University of Oregon',),\n",
       " ('University of Pennsylvania',),\n",
       " ('University of Pittsburgh',),\n",
       " ('University of Portland',),\n",
       " ('University of Puget Sound',),\n",
       " ('University of Rhode Island',),\n",
       " ('University of Richmond',),\n",
       " ('University of San Diego',),\n",
       " ('University of San Francisco',),\n",
       " ('University of South Alabama',),\n",
       " ('University of South Carolina',),\n",
       " ('University of South Carolina Upstate',),\n",
       " ('University of South Florida',),\n",
       " ('University of Southern California',),\n",
       " ('University of Southern Colorado',),\n",
       " ('University of Southern Indiana',),\n",
       " ('University of Southern Mississippi',),\n",
       " ('University of Tampa',),\n",
       " ('University of Tennessee',),\n",
       " ('University of Tennessee at Chattanooga',),\n",
       " ('University of Tennessee at Martin',),\n",
       " ('University of Texas at Arlington',),\n",
       " ('University of Texas at Austin',),\n",
       " ('University of Texas at El Paso',),\n",
       " ('University of Texas at San Antonio',),\n",
       " ('University of Texas-Pan American',),\n",
       " ('University of Toledo',),\n",
       " ('University of Tulsa',),\n",
       " ('University of Utah',),\n",
       " ('University of Virginia',),\n",
       " ('University of Washington',),\n",
       " ('University of West Florida',),\n",
       " ('University of Wisconsin',),\n",
       " ('University of Wisconsin-Eau Claire',),\n",
       " ('University of Wisconsin-Green Bay',),\n",
       " ('University of Wisconsin-Milwaukee',),\n",
       " ('University of Wisconsin-Parkside',),\n",
       " ('University of Wisconsin-Stevens Point',),\n",
       " ('University of Wisconsin-Stout',),\n",
       " ('University of Wyoming',),\n",
       " ('University of the District of Columbia',),\n",
       " ('University of the Pacific',),\n",
       " ('Upsala College',),\n",
       " ('Utah State University',),\n",
       " ('Valdosta State University',),\n",
       " ('Valparaiso University',),\n",
       " ('Vanderbilt University',),\n",
       " ('Villanova University',),\n",
       " ('Virginia Commonwealth University',),\n",
       " ('Virginia Military Institute',),\n",
       " ('Virginia Polytechnic Institute and State University',),\n",
       " ('Virginia Union University',),\n",
       " ('Wagner College',),\n",
       " ('Wake Forest University',),\n",
       " ('Walsh University',),\n",
       " ('Washington State University',),\n",
       " ('Weber State University',),\n",
       " ('West Texas A&M University',),\n",
       " ('West Virginia State University',),\n",
       " ('West Virginia University',),\n",
       " ('West Virginia University Institute of Technology',),\n",
       " ('West Virginia Wesleyan College',),\n",
       " ('Western Carolina University',),\n",
       " ('Western Illinois University',),\n",
       " ('Western Kentucky University',),\n",
       " ('Western Michigan University',),\n",
       " ('Western Oregon University',),\n",
       " ('Westmont College',),\n",
       " ('Wichita State University',),\n",
       " ('Widener University',),\n",
       " ('William Paterson University',),\n",
       " ('Wilmington College',),\n",
       " ('Winston-Salem State University',),\n",
       " ('Wofford College',),\n",
       " ('Wright State University',),\n",
       " ('Xavier University',),\n",
       " ('Yale University',),\n",
       " ('Yeshiva University',),\n",
       " ('Youngstown State University',)]"
      ]
     },
     "execution_count": 14,
     "metadata": {},
     "output_type": "execute_result"
    }
   ],
   "source": [
    "action.execute(\"SELECT DISTINCT college FROM players ORDER BY college\")\n",
    "action.fetchall()"
   ]
  },
  {
   "cell_type": "code",
   "execution_count": 15,
   "metadata": {},
   "outputs": [
    {
     "data": {
      "text/plain": [
       "[(489,)]"
      ]
     },
     "execution_count": 15,
     "metadata": {},
     "output_type": "execute_result"
    }
   ],
   "source": [
    "action.execute(\"SELECT count(DISTINCT college) FROM players ORDER BY college\")\n",
    "action.fetchall()"
   ]
  },
  {
   "cell_type": "code",
   "execution_count": 16,
   "metadata": {},
   "outputs": [
    {
     "data": {
      "text/plain": [
       "[('Butch Graves',), ('Chris Dudley',)]"
      ]
     },
     "execution_count": 16,
     "metadata": {},
     "output_type": "execute_result"
    }
   ],
   "source": [
    "action.execute(\"SELECT player FROM players WHERE college = 'Yale University' ORDER BY college\")\n",
    "action.fetchall()"
   ]
  },
  {
   "cell_type": "code",
   "execution_count": 17,
   "metadata": {},
   "outputs": [
    {
     "data": {
      "text/plain": [
       "(0.4599975000000001,)"
      ]
     },
     "execution_count": 17,
     "metadata": {},
     "output_type": "execute_result"
    }
   ],
   "source": [
    "action.execute(\"SELECT avg(fg_percentage) FROM players WHERE pk <= 10\")\n",
    "action.fetchone()"
   ]
  },
  {
   "cell_type": "code",
   "execution_count": 18,
   "metadata": {},
   "outputs": [
    {
     "data": {
      "text/plain": [
       "(0.23137667255743471,)"
      ]
     },
     "execution_count": 18,
     "metadata": {},
     "output_type": "execute_result"
    }
   ],
   "source": [
    "action.execute(\"SELECT avg(fg_percentage) FROM players\")\n",
    "action.fetchone()"
   ]
  },
  {
   "cell_type": "code",
   "execution_count": 19,
   "metadata": {},
   "outputs": [
    {
     "data": {
      "text/plain": [
       "(1.0,)"
      ]
     },
     "execution_count": 19,
     "metadata": {},
     "output_type": "execute_result"
    }
   ],
   "source": [
    "action.execute(\"SELECT max(fg_percentage) FROM players\")\n",
    "action.fetchone()"
   ]
  },
  {
   "cell_type": "code",
   "execution_count": 47,
   "metadata": {},
   "outputs": [
    {
     "data": {
      "text/plain": [
       "(0.4615921739130436,)"
      ]
     },
     "execution_count": 47,
     "metadata": {},
     "output_type": "execute_result"
    }
   ],
   "source": [
    "action.execute(\"SELECT avg(fg_percentage) FROM players WHERE games > 187\")\n",
    "action.fetchone()"
   ]
  },
  {
   "cell_type": "code",
   "execution_count": 56,
   "metadata": {},
   "outputs": [
    {
     "data": {
      "text/plain": [
       "[('Kevin Garnett',), ('Kevin Willis',), ('Robert Parish',)]"
      ]
     },
     "execution_count": 56,
     "metadata": {},
     "output_type": "execute_result"
    }
   ],
   "source": [
    "action.execute(\"SELECT player FROM players WHERE yrs > 20 ORDER BY player\")\n",
    "action.fetchall()"
   ]
  },
  {
   "cell_type": "code",
   "execution_count": null,
   "metadata": {},
   "outputs": [],
   "source": []
  }
 ],
 "metadata": {
  "kernelspec": {
   "display_name": "Python 3",
   "language": "python",
   "name": "python3"
  },
  "language_info": {
   "codemirror_mode": {
    "name": "ipython",
    "version": 3
   },
   "file_extension": ".py",
   "mimetype": "text/x-python",
   "name": "python",
   "nbconvert_exporter": "python",
   "pygments_lexer": "ipython3",
   "version": "3.7.5"
  }
 },
 "nbformat": 4,
 "nbformat_minor": 2
}
