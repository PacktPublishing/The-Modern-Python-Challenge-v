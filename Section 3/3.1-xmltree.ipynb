{
 "cells": [
  {
   "cell_type": "markdown",
   "metadata": {},
   "source": [
    "# xmltree basics"
   ]
  },
  {
   "cell_type": "code",
   "execution_count": 3,
   "metadata": {},
   "outputs": [],
   "source": [
    "import xml.etree.ElementTree as et"
   ]
  },
  {
   "cell_type": "code",
   "execution_count": 5,
   "metadata": {},
   "outputs": [],
   "source": [
    "file = 'countries.xml'\n",
    "tree =  et.parse(file)"
   ]
  },
  {
   "cell_type": "code",
   "execution_count": 6,
   "metadata": {},
   "outputs": [
    {
     "data": {
      "text/plain": [
       "<xml.etree.ElementTree.ElementTree at 0x20a21445548>"
      ]
     },
     "execution_count": 6,
     "metadata": {},
     "output_type": "execute_result"
    }
   ],
   "source": [
    "tree"
   ]
  },
  {
   "cell_type": "code",
   "execution_count": 7,
   "metadata": {},
   "outputs": [],
   "source": [
    "root = tree.getroot()"
   ]
  },
  {
   "cell_type": "code",
   "execution_count": 8,
   "metadata": {},
   "outputs": [
    {
     "data": {
      "text/plain": [
       "'countries'"
      ]
     },
     "execution_count": 8,
     "metadata": {},
     "output_type": "execute_result"
    }
   ],
   "source": [
    "root.tag"
   ]
  },
  {
   "cell_type": "code",
   "execution_count": 10,
   "metadata": {},
   "outputs": [
    {
     "data": {
      "text/plain": [
       "'Afghanistan'"
      ]
     },
     "execution_count": 10,
     "metadata": {},
     "output_type": "execute_result"
    }
   ],
   "source": [
    "root[0].text"
   ]
  },
  {
   "cell_type": "code",
   "execution_count": 12,
   "metadata": {},
   "outputs": [
    {
     "name": "stdout",
     "output_type": "stream",
     "text": [
      "Afghanistan-iso: 4\n",
      "Albania-iso: 8\n",
      "Algeria-iso: 12\n",
      "American Samoa-iso: 16\n",
      "Andorra-iso: 20\n",
      "Angola-iso: 24\n",
      "Anguilla-iso: 660\n",
      "Antarctica-iso: 10\n",
      "Antigua And Barbuda-iso: 28\n",
      "Argentina-iso: 32\n",
      "Armenia-iso: 51\n",
      "Aruba-iso: 533\n",
      "Australia-iso: 36\n",
      "Austria-iso: 40\n",
      "Azerbaijan-iso: 31\n",
      "Bahamas-iso: 44\n",
      "Bahrain-iso: 48\n",
      "Bangladesh-iso: 50\n",
      "Barbados-iso: 52\n",
      "Belarus-iso: 112\n",
      "Belgium-iso: 56\n",
      "Belize-iso: 84\n",
      "Benin-iso: 204\n",
      "Bermuda-iso: 60\n",
      "Bhutan-iso: 64\n",
      "Bolivia-iso: 68\n",
      "Bosnia And Herzegovina-iso: 70\n",
      "Botswana-iso: 72\n",
      "Bouvet Island-iso: 74\n",
      "Brazil-iso: 76\n",
      "British Indian Ocean continent-iso: 86\n",
      "Brunei Darussalam-iso: 96\n",
      "Bulgaria-iso: 100\n",
      "Burkina Faso-iso: 854\n",
      "Burundi-iso: 108\n",
      "Cambodia-iso: 116\n",
      "Cameroon-iso: 120\n",
      "Canada-iso: 124\n",
      "Cape Verde-iso: 132\n",
      "Cayman Islands-iso: 136\n",
      "Central African Republic-iso: 140\n",
      "Chad-iso: 148\n",
      "Chile-iso: 152\n",
      "China-iso: 156\n",
      "Christmas Island-iso: 162\n",
      "Cocos (Keeling) Islands-iso: 166\n",
      "Colombia-iso: 170\n",
      "Comoros-iso: 174\n",
      "Congo-iso: 178\n",
      "Cook Islands-iso: 184\n",
      "Costa Rica-iso: 188\n",
      "Cote D'Ivoire-iso: 384\n",
      "Croatia-iso: 191\n",
      "Cuba-iso: 192\n",
      "Cyprus-iso: 196\n",
      "Czech Republic-iso: 203\n",
      "Denmark-iso: 208\n",
      "Djibouti-iso: 262\n",
      "Dominica-iso: 212\n",
      "Dominican Republic-iso: 214\n",
      "Ecuador-iso: 218\n",
      "Egypt-iso: 818\n",
      "El Salvador-iso: 222\n",
      "Equatorial Guinea-iso: 226\n",
      "Eritrea-iso: 232\n",
      "Estonia-iso: 233\n",
      "Ethiopia-iso: 210\n",
      "Falkland Islands (Malvinas)-iso: 238\n",
      "Faroe Islands-iso: 234\n",
      "Fiji-iso: 242\n",
      "Finland-iso: 246\n",
      "France-iso: 250\n",
      "France, Metropolitan-iso: 249\n",
      "French Guiana-iso: 254\n",
      "French Polynesia-iso: 258\n",
      "French Southern Territories-iso: 260\n",
      "Gabon-iso: 266\n",
      "Gambia-iso: 270\n",
      "Georgia-iso: 268\n",
      "Germany-iso: 276\n",
      "Ghana-iso: 288\n",
      "Gibraltar-iso: 292\n",
      "Greece-iso: 300\n",
      "Greenland-iso: 304\n",
      "Grenada-iso: 308\n",
      "Guadeloupe-iso: 312\n",
      "Guam-iso: 316\n",
      "Guatemala-iso: 320\n",
      "Guinea-iso: 324\n",
      "Guinea-Bissau-iso: 624\n",
      "Guyana-iso: 328\n",
      "Haiti-iso: 332\n",
      "Heard Island and Mcdonald Islands-iso: 334\n",
      "Honduras-iso: 340\n",
      "Hong Kong-iso: 344\n",
      "Hungary-iso: 348\n",
      "Iceland-iso: 352\n",
      "India-iso: 356\n",
      "Indonesia-iso: 360\n",
      "Iran, Islamic Republic Of-iso: 364\n",
      "Iraq-iso: 368\n",
      "Ireland-iso: 372\n",
      "Israel-iso: 376\n",
      "Italy-iso: 380\n",
      "Jamaica-iso: 388\n",
      "Japan-iso: 392\n",
      "Jordan-iso: 400\n",
      "Kazakhstan-iso: 398\n",
      "Kenya-iso: 404\n",
      "Kiribati-iso: 296\n",
      "Korea, Democratic People'S Republic Of-iso: 408\n",
      "Korea, Republic Of-iso: 410\n",
      "Kuwait-iso: 414\n",
      "Kyrgyzstan-iso: 417\n",
      "Lao People's Democratic Republic-iso: 418\n",
      "Latvia-iso: 428\n",
      "Lebanon-iso: 422\n",
      "Lesotho-iso: 426\n",
      "Liberia-iso: 430\n",
      "Libyan Arab Jamahiriya-iso: 434\n",
      "Liechtenstein-iso: 438\n",
      "Lithuania-iso: 440\n",
      "Luxembourg-iso: 442\n",
      "Macau-iso: 446\n",
      "Macedonia, The Former Yugoslav Republic Of-iso: 807\n",
      "Madagascar-iso: 450\n",
      "Malawi-iso: 454\n",
      "Malaysia-iso: 458\n",
      "Maldives-iso: 462\n",
      "Mali-iso: 466\n",
      "Malta-iso: 470\n",
      "Marshall Islands-iso: 584\n",
      "Martinique-iso: 474\n",
      "Mauritania-iso: 478\n",
      "Mauritius-iso: 480\n",
      "Mayotte-iso: 175\n",
      "Mexico-iso: 484\n",
      "Micronesia, Federated States Of-iso: 583\n",
      "Moldova, Republic Of-iso: 498\n",
      "Monaco-iso: 492\n",
      "Mongolia-iso: 496\n",
      "Montserrat-iso: 500\n",
      "Morocco-iso: 504\n",
      "Mozambique-iso: 508\n",
      "Myanmar-iso: 104\n",
      "Namibia-iso: 516\n",
      "Nauru-iso: 520\n",
      "Nepal-iso: 524\n",
      "Netherlands-iso: 528\n",
      "Netherlands Antilles-iso: 530\n",
      "New Caledonia-iso: 540\n",
      "New Zealand-iso: 554\n",
      "Nicaragua-iso: 558\n",
      "Niger-iso: 562\n",
      "Nigeria-iso: 566\n",
      "Niue-iso: 570\n",
      "Norfolk Island-iso: 574\n",
      "Northern Mariana Islands-iso: 580\n",
      "Norway-iso: 578\n",
      "Oman-iso: 512\n",
      "Pakistan-iso: 586\n",
      "Palau-iso: 585\n",
      "Panama-iso: 591\n",
      "Papua New Guinea-iso: 598\n",
      "Paraguay-iso: 600\n",
      "Peru-iso: 604\n",
      "Philippines-iso: 608\n",
      "Pitcairn-iso: 612\n",
      "Poland-iso: 616\n",
      "Portugal-iso: 620\n",
      "Puerto Rico-iso: 630\n",
      "Qatar-iso: 634\n",
      "Reunion-iso: 638\n",
      "Romania-iso: 642\n",
      "Russian Federation-iso: 643\n",
      "Rwanda-iso: 646\n",
      "Saint Helena-iso: 654\n",
      "Saint Kitts And Nevis-iso: 659\n",
      "Saint Lucia-iso: 662\n",
      "Saint Pierre And Miquelon-iso: 666\n",
      "Saint Vincent And The Grenadines-iso: 670\n",
      "Samoa-iso: 882\n",
      "San Marino-iso: 674\n",
      "Sao Tome And Principe-iso: 678\n",
      "Saudi Arabia-iso: 682\n",
      "Senegal-iso: 686\n",
      "Seychelles-iso: 690\n",
      "Sierra Leone-iso: 694\n",
      "Singapore-iso: 702\n",
      "Slovakia (Slovak Republic)-iso: 703\n",
      "Slovenia-iso: 705\n",
      "Solomon Islands-iso: 90\n",
      "Somalia-iso: 706\n",
      "South Africa-iso: 710\n",
      "Spain-iso: 724\n",
      "Sri Lanka-iso: 144\n",
      "Sudan-iso: 736\n",
      "Suriname-iso: 740\n",
      "Svalbard And Jan Mayen Islands-iso: 744\n",
      "Swaziland-iso: 748\n",
      "Sweden-iso: 752\n",
      "Switzerland-iso: 756\n",
      "Syrian Arab Republic-iso: 760\n",
      "Taiwan, Province Of China-iso: 158\n",
      "Tajikistan-iso: 762\n",
      "Tanzania, United Republic Of-iso: 834\n",
      "Thailand-iso: 764\n",
      "Togo-iso: 768\n",
      "Tokelau-iso: 772\n",
      "Tonga-iso: 776\n",
      "Trinidad And Tobago-iso: 780\n",
      "Tunisia-iso: 788\n",
      "Turkey-iso: 792\n",
      "Turkmenistan-iso: 795\n",
      "Turks And Caicos Islands-iso: 796\n",
      "Tuvalu-iso: 798\n",
      "Uganda-iso: 800\n",
      "Ukraine-iso: 804\n",
      "United Arab Emirates-iso: 784\n",
      "United Kingdom-iso: 826\n",
      "United States-iso: 840\n",
      "United States Minor Outlying Islands-iso: 581\n",
      "Uruguay-iso: 858\n",
      "Uzbekistan-iso: 860\n",
      "Vanuatu-iso: 548\n",
      "Vatican City State (Holy See)-iso: 336\n",
      "Venezuela-iso: 862\n",
      "Vietnam-iso: 704\n",
      "Virgin Islands (British)-iso: 92\n",
      "Virgin Islands (U.S.)-iso: 850\n",
      "Wallis And Futuna Islands-iso: 876\n",
      "Western Sahara-iso: 732\n",
      "Yemen-iso: 887\n",
      "Yugoslavia-iso: 891\n",
      "Zaire-iso: 180\n",
      "Zambia-iso: 894\n",
      "Zimbabwe-iso: 716\n"
     ]
    }
   ],
   "source": [
    "for child in root:\n",
    "    print(child.text + \"-\", end =\"\", flush=True)\n",
    "    for k,v in child.attrib.items():\n",
    "        if k == 'iso':\n",
    "            print(k + \":\", v)"
   ]
  },
  {
   "cell_type": "code",
   "execution_count": null,
   "metadata": {},
   "outputs": [],
   "source": []
  },
  {
   "cell_type": "code",
   "execution_count": null,
   "metadata": {},
   "outputs": [],
   "source": []
  },
  {
   "cell_type": "code",
   "execution_count": null,
   "metadata": {},
   "outputs": [],
   "source": []
  }
 ],
 "metadata": {
  "kernelspec": {
   "display_name": "Python 3",
   "language": "python",
   "name": "python3"
  },
  "language_info": {
   "codemirror_mode": {
    "name": "ipython",
    "version": 3
   },
   "file_extension": ".py",
   "mimetype": "text/x-python",
   "name": "python",
   "nbconvert_exporter": "python",
   "pygments_lexer": "ipython3",
   "version": "3.7.5"
  }
 },
 "nbformat": 4,
 "nbformat_minor": 2
}
