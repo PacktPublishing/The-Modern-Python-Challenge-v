{
 "cells": [
  {
   "cell_type": "markdown",
   "metadata": {},
   "source": [
    "# Remove punctuation"
   ]
  },
  {
   "cell_type": "code",
   "execution_count": 1,
   "metadata": {},
   "outputs": [],
   "source": [
    "f = open('desolation_sample.txt', 'r')\n",
    "data = f.read()"
   ]
  },
  {
   "cell_type": "code",
   "execution_count": 2,
   "metadata": {},
   "outputs": [
    {
     "data": {
      "text/plain": [
       "'They\\'re selling postcards of the hanging. They\\'re painting the passports brown\\nThe beauty parlor is filled with sailors, the circus is in town\\nHere comes the blind commissioner, they\\'ve got him in a trance.\\nOne hand is tied to the tight-rope walker, the other is in his pants\\nAnd the riot squad they\\'re restless, they need somewhere to go\\nAs Lady and I look out tonight, from Desolation Row!\\nCinderella, she seems so easy, \"It takes one to know one, \" she smiles\\nAnd puts her hands in her back pockets Bette Davis style\\nAnd in comes Romeo, he\\'s moaning. \"You Belong to Me I Believe\"\\nAnd someone says, \"You\\'re in the wrong place, my friend, you\\'d better leave\"\\nAnd the only sound that\\'s left after the ambulances go:\\nIs Cinderella sweeping up on Desolation Row?\\n'"
      ]
     },
     "execution_count": 2,
     "metadata": {},
     "output_type": "execute_result"
    }
   ],
   "source": [
    "data"
   ]
  },
  {
   "cell_type": "code",
   "execution_count": 5,
   "metadata": {},
   "outputs": [],
   "source": [
    "def clean(string):\n",
    "    punctuation = '.,?!:;\"'\n",
    "    for mark in punctuation:\n",
    "        string = string.replace(mark, '')\n",
    "    return string    "
   ]
  },
  {
   "cell_type": "code",
   "execution_count": 7,
   "metadata": {},
   "outputs": [
    {
     "name": "stdout",
     "output_type": "stream",
     "text": [
      "They're selling postcards of the hanging They're painting the passports brown\n",
      "The beauty parlor is filled with sailors the circus is in town\n",
      "Here comes the blind commissioner they've got him in a trance\n",
      "One hand is tied to the tight-rope walker the other is in his pants\n",
      "And the riot squad they're restless they need somewhere to go\n",
      "As Lady and I look out tonight from Desolation Row\n",
      "Cinderella she seems so easy It takes one to know one  she smiles\n",
      "And puts her hands in her back pockets Bette Davis style\n",
      "And in comes Romeo he's moaning You Belong to Me I Believe\n",
      "And someone says You're in the wrong place my friend you'd better leave\n",
      "And the only sound that's left after the ambulances go\n",
      "Is Cinderella sweeping up on Desolation Row\n",
      "\n"
     ]
    }
   ],
   "source": [
    "print(clean(data))"
   ]
  },
  {
   "cell_type": "code",
   "execution_count": null,
   "metadata": {},
   "outputs": [],
   "source": []
  },
  {
   "cell_type": "code",
   "execution_count": null,
   "metadata": {},
   "outputs": [],
   "source": []
  }
 ],
 "metadata": {
  "kernelspec": {
   "display_name": "Python 3",
   "language": "python",
   "name": "python3"
  },
  "language_info": {
   "codemirror_mode": {
    "name": "ipython",
    "version": 3
   },
   "file_extension": ".py",
   "mimetype": "text/x-python",
   "name": "python",
   "nbconvert_exporter": "python",
   "pygments_lexer": "ipython3",
   "version": "3.7.5"
  }
 },
 "nbformat": 4,
 "nbformat_minor": 2
}
