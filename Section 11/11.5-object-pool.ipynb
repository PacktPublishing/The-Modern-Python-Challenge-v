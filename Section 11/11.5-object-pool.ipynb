{
 "cells": [
  {
   "cell_type": "markdown",
   "metadata": {},
   "source": [
    "# Object Pool"
   ]
  },
  {
   "cell_type": "code",
   "execution_count": 2,
   "metadata": {},
   "outputs": [],
   "source": [
    "from queue import Queue\n",
    "\n",
    "class Proxy:\n",
    "    \"\"\"Wraps original object with context manager that return the object to the\n",
    "    pool.\"\"\"\n",
    "    def __init__(self, obj, pool):\n",
    "        self._obj = obj\n",
    "        self._pool = pool\n",
    "\n",
    "    def __enter__(self):\n",
    "        return self._obj\n",
    "\n",
    "    def __exit__(self, typ, val, tb):\n",
    "        self._pool._put(self._obj)\n",
    "\n",
    "\n",
    "# useful in managing resources, for example limiting or limited connections to something        \n",
    "class Pool:\n",
    "    \"\"\"Pool of objects\"\"\"\n",
    "    def __init__(self, objects):\n",
    "        self._queue = Queue()\n",
    "        for obj in objects:\n",
    "            self._queue.put(obj)\n",
    "\n",
    "    def lease(self):\n",
    "        \"\"\"Lease an object from the pool, should be used as connection manager. e.g.:\n",
    "            with pool.lease() as conn:\n",
    "                cur = conn.cursor()\n",
    "                cur.execute('SELECT ...')\n",
    "        \"\"\"\n",
    "        return Proxy(self._queue.get(), self)\n",
    "\n",
    "    def _put(self, obj):\n",
    "        self._queue.put(obj)\n",
    "\n",
    "# http://pythonwise.blogspot.com/2016/09/simple-object-pools.html\n",
    "# Miki Tebeka"
   ]
  },
  {
   "cell_type": "code",
   "execution_count": 4,
   "metadata": {},
   "outputs": [
    {
     "name": "stdout",
     "output_type": "stream",
     "text": [
      "worker 8 got resource 1 \n",
      "worker 7 got resource 2 \n",
      "worker 4 got resource 3 \n",
      "worker 6 got resource 1 \n",
      "worker 2 got resource 2 \n",
      "worker 0 got resource 3 \n",
      "worker 3 got resource 1 \n",
      "worker 5 got resource 2 \n",
      "worker 1 got resource 3 \n"
     ]
    }
   ],
   "source": [
    "from threading import Thread, Barrier\n",
    "from time import sleep\n",
    "from random import random\n",
    "\n",
    "n = 9\n",
    "b = Barrier(n)\n",
    "p = Pool([1, 2, 3])\n",
    "\n",
    "def worker(n, barrier, pool):\n",
    "    barrier.wait()  # Wait for all threads to be ready\n",
    "    sleep(random() / 10)\n",
    "    with pool.lease() as val:\n",
    "        print(f\"worker {n:d} got resource {val:d} \")\n",
    "\n",
    "for i in range(n):\n",
    "    Thread(target=worker, args=(i, b, p)).start()"
   ]
  },
  {
   "cell_type": "code",
   "execution_count": null,
   "metadata": {},
   "outputs": [],
   "source": []
  },
  {
   "cell_type": "code",
   "execution_count": null,
   "metadata": {},
   "outputs": [],
   "source": []
  }
 ],
 "metadata": {
  "kernelspec": {
   "display_name": "Python 3",
   "language": "python",
   "name": "python3"
  },
  "language_info": {
   "codemirror_mode": {
    "name": "ipython",
    "version": 3
   },
   "file_extension": ".py",
   "mimetype": "text/x-python",
   "name": "python",
   "nbconvert_exporter": "python",
   "pygments_lexer": "ipython3",
   "version": "3.7.5"
  }
 },
 "nbformat": 4,
 "nbformat_minor": 2
}
