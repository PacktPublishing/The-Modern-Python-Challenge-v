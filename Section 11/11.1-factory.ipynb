{
 "cells": [
  {
   "cell_type": "markdown",
   "metadata": {},
   "source": [
    "# Factory Method"
   ]
  },
  {
   "cell_type": "code",
   "execution_count": null,
   "metadata": {},
   "outputs": [],
   "source": []
  },
  {
   "cell_type": "code",
   "execution_count": 8,
   "metadata": {},
   "outputs": [],
   "source": [
    "class Latin_to_English:\n",
    "    def __init__(self):\n",
    "        self.lexicon = {'veni': 'I came',\n",
    "                        'vidi' : 'I saw',\n",
    "                        'vici' : 'I conquered'}\n",
    "    def translate(self, word):\n",
    "        return self.lexicon.get(word, 'not in lexicon')\n",
    "    \n",
    "class English_to_Latin:\n",
    "    def __init__(self):\n",
    "        self.lexicon = {'without': 'sine',\n",
    "                        'which' : 'qua',\n",
    "                        'not' : 'non'}\n",
    "    def translate(self, word):\n",
    "        return self.lexicon.get(word, 'not in lexicon')    "
   ]
  },
  {
   "cell_type": "code",
   "execution_count": 17,
   "metadata": {},
   "outputs": [],
   "source": [
    "def Translator(language):\n",
    "    translation = {\n",
    "        'english' : English_to_Latin,\n",
    "        'latin' : Latin_to_English\n",
    "    }\n",
    "    return translation[language]()"
   ]
  },
  {
   "cell_type": "code",
   "execution_count": 18,
   "metadata": {},
   "outputs": [
    {
     "name": "stdout",
     "output_type": "stream",
     "text": [
      "sine\n",
      "qua\n",
      "non\n"
     ]
    }
   ],
   "source": [
    "eng = Translator('english')\n",
    "for word in ['without', 'which', 'not']:\n",
    "    print(eng.translate(word))\n"
   ]
  },
  {
   "cell_type": "code",
   "execution_count": 20,
   "metadata": {},
   "outputs": [
    {
     "name": "stdout",
     "output_type": "stream",
     "text": [
      "I came\n",
      "I saw\n",
      "I conquered\n"
     ]
    }
   ],
   "source": [
    "lat = Translator('latin')\n",
    "for word in ['veni', 'vidi', 'vici']:\n",
    "    print(lat.translate(word))"
   ]
  },
  {
   "cell_type": "code",
   "execution_count": null,
   "metadata": {},
   "outputs": [],
   "source": []
  }
 ],
 "metadata": {
  "kernelspec": {
   "display_name": "Python 3",
   "language": "python",
   "name": "python3"
  },
  "language_info": {
   "codemirror_mode": {
    "name": "ipython",
    "version": 3
   },
   "file_extension": ".py",
   "mimetype": "text/x-python",
   "name": "python",
   "nbconvert_exporter": "python",
   "pygments_lexer": "ipython3",
   "version": "3.7.5"
  }
 },
 "nbformat": 4,
 "nbformat_minor": 2
}
