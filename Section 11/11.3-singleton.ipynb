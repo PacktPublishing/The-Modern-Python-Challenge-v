{
 "cells": [
  {
   "cell_type": "markdown",
   "metadata": {},
   "source": [
    "# Singleton Pattern"
   ]
  },
  {
   "cell_type": "code",
   "execution_count": 1,
   "metadata": {},
   "outputs": [],
   "source": []
  },
  {
   "cell_type": "code",
   "execution_count": 1,
   "metadata": {},
   "outputs": [],
   "source": [
    "class ThereCanBeOnlyOne:\n",
    "    instance = None\n",
    "    \n",
    "    class _ThereCanBeOnlyOne:\n",
    "        def __init__(self):\n",
    "            pass\n",
    "    def __new__(cls):\n",
    "        if not ThereCanBeOnlyOne.instance:\n",
    "            ThereCanBeOnlyOne.instance = ThereCanBeOnlyOne._ThereCanBeOnlyOne()\n",
    "        return ThereCanBeOnlyOne.instance    \n",
    "        \n"
   ]
  },
  {
   "cell_type": "code",
   "execution_count": 3,
   "metadata": {},
   "outputs": [
    {
     "name": "stdout",
     "output_type": "stream",
     "text": [
      "<__main__.ThereCanBeOnlyOne._ThereCanBeOnlyOne object at 0x000001B2ADD4C508>\n",
      "<__main__.ThereCanBeOnlyOne._ThereCanBeOnlyOne object at 0x000001B2ADD4C508>\n",
      "<__main__.ThereCanBeOnlyOne._ThereCanBeOnlyOne object at 0x000001B2ADD4C508>\n"
     ]
    }
   ],
   "source": [
    "the_kurgan = ThereCanBeOnlyOne()\n",
    "ramirez = ThereCanBeOnlyOne()\n",
    "macleod = ThereCanBeOnlyOne()\n",
    "print(the_kurgan)\n",
    "print(ramirez)\n",
    "print(macleod)"
   ]
  },
  {
   "cell_type": "code",
   "execution_count": 4,
   "metadata": {},
   "outputs": [],
   "source": [
    "class ThereCanBeMany:\n",
    "    def __init__(self):\n",
    "        pass"
   ]
  },
  {
   "cell_type": "code",
   "execution_count": 5,
   "metadata": {},
   "outputs": [
    {
     "name": "stdout",
     "output_type": "stream",
     "text": [
      "<__main__.ThereCanBeMany object at 0x000001B2ADDD34C8>\n",
      "<__main__.ThereCanBeMany object at 0x000001B2ADDD3488>\n",
      "<__main__.ThereCanBeMany object at 0x000001B2ADDD3508>\n"
     ]
    }
   ],
   "source": [
    "the_kurgan = ThereCanBeMany()\n",
    "ramirez = ThereCanBeMany()\n",
    "macleod = ThereCanBeMany()\n",
    "print(the_kurgan)\n",
    "print(ramirez)\n",
    "print(macleod)"
   ]
  },
  {
   "cell_type": "code",
   "execution_count": null,
   "metadata": {},
   "outputs": [],
   "source": []
  }
 ],
 "metadata": {
  "kernelspec": {
   "display_name": "Python 3",
   "language": "python",
   "name": "python3"
  },
  "language_info": {
   "codemirror_mode": {
    "name": "ipython",
    "version": 3
   },
   "file_extension": ".py",
   "mimetype": "text/x-python",
   "name": "python",
   "nbconvert_exporter": "python",
   "pygments_lexer": "ipython3",
   "version": "3.7.5"
  }
 },
 "nbformat": 4,
 "nbformat_minor": 2
}
