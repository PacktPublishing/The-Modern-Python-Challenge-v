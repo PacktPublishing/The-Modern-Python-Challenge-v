{
 "cells": [
  {
   "cell_type": "markdown",
   "metadata": {},
   "source": [
    "# Webpage via Factory"
   ]
  },
  {
   "cell_type": "code",
   "execution_count": 21,
   "metadata": {},
   "outputs": [],
   "source": [
    "class Head:\n",
    "    def __init__(self, file='test', title='My Title'):\n",
    "        f= open(file, 'w')\n",
    "        html = f\"\"\"\n",
    "    <!DOCTYPE html>\n",
    "    <html lang=\"en\">\n",
    "        <head>\n",
    "            <title>{title}</title>\n",
    "        <meta charset=\"utf-8\">    \n",
    "        </head>\n",
    "        \"\"\"\n",
    "        f.write(html)\n",
    "        f.close()\n",
    "        \n",
    "class Body:\n",
    "    def __init__(self, file='test.html', content='Here is some content'):\n",
    "        self.file = file\n",
    "        f = open(self.file, 'a')\n",
    "        html = f\"\"\" \n",
    "        <body>\n",
    "            <p>{content}</p>\n",
    "        \n",
    "        </body>\n",
    "    </html>    \n",
    "        \"\"\"\n",
    "        f.write(html)\n",
    "        f.close()    \n",
    "        "
   ]
  },
  {
   "cell_type": "code",
   "execution_count": 25,
   "metadata": {},
   "outputs": [],
   "source": [
    "def make_page(section):\n",
    "    sections = {\n",
    "        'head' : Head,\n",
    "        'body' : Body\n",
    "    }"
   ]
  },
  {
   "cell_type": "code",
   "execution_count": 28,
   "metadata": {},
   "outputs": [],
   "source": [
    "head = make_page('head')\n",
    "body = make_page('body')\n"
   ]
  },
  {
   "cell_type": "code",
   "execution_count": 29,
   "metadata": {},
   "outputs": [
    {
     "name": "stdout",
     "output_type": "stream",
     "text": [
      "\n",
      "    <!DOCTYPE html>\n",
      "    <html lang=\"en\">\n",
      "        <head>\n",
      "            <title>Here is my content</title>\n",
      "        <meta charset=\"utf-8\">    \n",
      "        </head>\n",
      "         \n",
      "        <body>\n",
      "            <p>Here is my content</p>\n",
      "        \n",
      "        </body>\n",
      "    </html>    \n",
      "        \n"
     ]
    }
   ],
   "source": [
    "page = open('test.html', 'r')\n",
    "print(page.read())"
   ]
  },
  {
   "cell_type": "code",
   "execution_count": null,
   "metadata": {},
   "outputs": [],
   "source": []
  }
 ],
 "metadata": {
  "kernelspec": {
   "display_name": "Python 3",
   "language": "python",
   "name": "python3"
  },
  "language_info": {
   "codemirror_mode": {
    "name": "ipython",
    "version": 3
   },
   "file_extension": ".py",
   "mimetype": "text/x-python",
   "name": "python",
   "nbconvert_exporter": "python",
   "pygments_lexer": "ipython3",
   "version": "3.7.5"
  }
 },
 "nbformat": 4,
 "nbformat_minor": 2
}
