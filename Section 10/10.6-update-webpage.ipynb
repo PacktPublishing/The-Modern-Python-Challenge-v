{
 "cells": [
  {
   "cell_type": "markdown",
   "metadata": {},
   "source": [
    "# Update a Webpage, Make a Website "
   ]
  },
  {
   "cell_type": "code",
   "execution_count": 5,
   "metadata": {},
   "outputs": [],
   "source": [
    "from bs4 import BeautifulSoup as bs\n",
    "import os"
   ]
  },
  {
   "cell_type": "code",
   "execution_count": 6,
   "metadata": {},
   "outputs": [],
   "source": [
    "html = \"\"\"\n",
    "<!DOCTYPE html>\n",
    "<html>\n",
    "<head>\n",
    "    <title></title>\n",
    "    <meta charset=\"UTF-8\">\n",
    "    <meta name=\"description\" content=\"This is a really exciting website\">\n",
    "    <meta name=\"keywords\" content=\"real excitement\">\n",
    "    \n",
    "</head>\n",
    "<body>\n",
    "    <nav></nav>\n",
    "\n",
    "\n",
    "</body>\n",
    "</html>\n",
    "\"\"\""
   ]
  },
  {
   "cell_type": "code",
   "execution_count": null,
   "metadata": {},
   "outputs": [],
   "source": [
    "os.mkdir('html')"
   ]
  },
  {
   "cell_type": "code",
   "execution_count": 8,
   "metadata": {},
   "outputs": [
    {
     "data": {
      "text/plain": [
       "'<nav>\\n<a href=\"home.html\">home</a>\\n<a href=\"about.html\">about</a>\\n<a href=\"contact.html\">contact</a>\\n<a href=\"faq.html\">faq</a>\\n\\t</nav>'"
      ]
     },
     "execution_count": 8,
     "metadata": {},
     "output_type": "execute_result"
    }
   ],
   "source": [
    "nav = ['home', 'about', 'contact', 'faq']\n",
    "\n",
    "nav_string = '<nav>'\n",
    "for link in nav:\n",
    "    nav_string += '\\n<a href=\"' + link +'.html\">' + link + '</a>'\n",
    "nav_string += \"\\n\\t</nav>\"    \n",
    "        \n",
    "\n",
    "nav_string"
   ]
  },
  {
   "cell_type": "code",
   "execution_count": 11,
   "metadata": {},
   "outputs": [],
   "source": [
    "folder = 'html/'\n",
    "for link in nav:\n",
    "    out = open(folder+link+'.html', 'w')\n",
    "    title = bs(html).title\n",
    "    title.string = link\n",
    "    revised = html.replace('<title></title>', str(title).capitalize()) \n",
    "    revised = revised.replace('<nav></nav>', nav_string)\n",
    "    out.write(revised)\n",
    "    out.close"
   ]
  },
  {
   "cell_type": "code",
   "execution_count": null,
   "metadata": {},
   "outputs": [],
   "source": []
  }
 ],
 "metadata": {
  "kernelspec": {
   "display_name": "Python 3",
   "language": "python",
   "name": "python3"
  },
  "language_info": {
   "codemirror_mode": {
    "name": "ipython",
    "version": 3
   },
   "file_extension": ".py",
   "mimetype": "text/x-python",
   "name": "python",
   "nbconvert_exporter": "python",
   "pygments_lexer": "ipython3",
   "version": "3.7.5"
  }
 },
 "nbformat": 4,
 "nbformat_minor": 2
}
