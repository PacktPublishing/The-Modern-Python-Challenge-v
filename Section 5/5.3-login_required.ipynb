{
 "cells": [
  {
   "cell_type": "markdown",
   "metadata": {},
   "source": [
    "# Login Required Decorator"
   ]
  },
  {
   "cell_type": "markdown",
   "metadata": {},
   "source": [
    "# The django way"
   ]
  },
  {
   "cell_type": "code",
   "execution_count": null,
   "metadata": {},
   "outputs": [],
   "source": [
    "def login_required(function=None, redirect_field_name=REDIRECT_FIELD_NAME, login_url=None):\n",
    "    \"\"\"\n",
    "    Decorator for views that checks that the user is logged in, redirecting\n",
    "    to the log-in page if necessary.\n",
    "    \"\"\"\n",
    "    actual_decorator = user_passes_test(\n",
    "        lambda u: u.is_authenticated,\n",
    "        login_url=login_url,\n",
    "        redirect_field_name=redirect_field_name\n",
    "    )\n",
    "    if function:\n",
    "        return actual_decorator(function)\n",
    "    return actual_decorator"
   ]
  },
  {
   "cell_type": "code",
   "execution_count": null,
   "metadata": {},
   "outputs": [],
   "source": [
    "@login_required\n",
    "def view(request):\n",
    "    Pass\n",
    "view()"
   ]
  },
  {
   "cell_type": "code",
   "execution_count": null,
   "metadata": {},
   "outputs": [],
   "source": []
  }
 ],
 "metadata": {
  "kernelspec": {
   "display_name": "Python 3",
   "language": "python",
   "name": "python3"
  },
  "language_info": {
   "codemirror_mode": {
    "name": "ipython",
    "version": 3
   },
   "file_extension": ".py",
   "mimetype": "text/x-python",
   "name": "python",
   "nbconvert_exporter": "python",
   "pygments_lexer": "ipython3",
   "version": "3.7.5"
  }
 },
 "nbformat": 4,
 "nbformat_minor": 2
}
