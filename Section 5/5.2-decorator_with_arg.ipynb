{
 "cells": [
  {
   "cell_type": "markdown",
   "metadata": {},
   "source": [
    "# Decorator with Arguments"
   ]
  },
  {
   "cell_type": "code",
   "execution_count": 1,
   "metadata": {},
   "outputs": [],
   "source": [
    "\n",
    "def math_op(math_func):\n",
    "    def do_op(x):\n",
    "        func = math_func(x)\n",
    "        print(\"Your number {} is {}\".format(func[0],func[1]))\n",
    "    return do_op"
   ]
  },
  {
   "cell_type": "code",
   "execution_count": 2,
   "metadata": {},
   "outputs": [
    {
     "name": "stdout",
     "output_type": "stream",
     "text": [
      "Your number squared is 100\n"
     ]
    }
   ],
   "source": [
    "@math_op\n",
    "def square(x):\n",
    "    return ('squared', x ** 2)\n",
    "square(10)"
   ]
  },
  {
   "cell_type": "code",
   "execution_count": 3,
   "metadata": {},
   "outputs": [],
   "source": [
    "def math_op(math_func):\n",
    "    def do_op(*args, **kwargs):\n",
    "        func = math_func(*args, **kwargs)\n",
    "        print(\"Your number {} is {}\".format(func[0],func[1]))\n",
    "    return do_op"
   ]
  },
  {
   "cell_type": "code",
   "execution_count": 4,
   "metadata": {},
   "outputs": [
    {
     "name": "stdout",
     "output_type": "stream",
     "text": [
      "Your number squared is 100\n"
     ]
    }
   ],
   "source": [
    "@math_op\n",
    "def square(x):\n",
    "    return ('squared', x ** 2)\n",
    "square(10)"
   ]
  },
  {
   "cell_type": "code",
   "execution_count": 5,
   "metadata": {},
   "outputs": [
    {
     "name": "stdout",
     "output_type": "stream",
     "text": [
      "Your number cubed is 1000\n"
     ]
    }
   ],
   "source": [
    "@math_op\n",
    "def cube():\n",
    "    return('cubed', 10 **3)\n",
    "cube()"
   ]
  },
  {
   "cell_type": "code",
   "execution_count": null,
   "metadata": {},
   "outputs": [],
   "source": []
  },
  {
   "cell_type": "code",
   "execution_count": null,
   "metadata": {},
   "outputs": [],
   "source": []
  }
 ],
 "metadata": {
  "kernelspec": {
   "display_name": "Python 3",
   "language": "python",
   "name": "python3"
  },
  "language_info": {
   "codemirror_mode": {
    "name": "ipython",
    "version": 3
   },
   "file_extension": ".py",
   "mimetype": "text/x-python",
   "name": "python",
   "nbconvert_exporter": "python",
   "pygments_lexer": "ipython3",
   "version": "3.7.5"
  }
 },
 "nbformat": 4,
 "nbformat_minor": 2
}
