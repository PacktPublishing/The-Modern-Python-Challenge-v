{
 "cells": [
  {
   "cell_type": "markdown",
   "metadata": {},
   "source": [
    "# Group By"
   ]
  },
  {
   "cell_type": "code",
   "execution_count": 1,
   "metadata": {},
   "outputs": [],
   "source": [
    "from itertools import groupby"
   ]
  },
  {
   "cell_type": "code",
   "execution_count": 2,
   "metadata": {},
   "outputs": [],
   "source": [
    "cars = [\n",
    "    {\"car\" : \"Camaro\",\n",
    "     \"manufacturer\" : \"Chevrolet\"},\n",
    "    {\"car\" : \"Corevette\",\n",
    "     \"manufacturer\" : \"Chevrolet\"},\n",
    "    {\"car\" : \"Malibu\",\n",
    "     \"manufacturer\" : \"Chevrolet\"},\n",
    "    {\"car\" : \"Impala\",\n",
    "     \"manufacturer\" : \"Chevrolet\"},\n",
    "    {\"car\" : \"Cruze\",\n",
    "     \"manufacturer\" : \"Chevrolet\"},\n",
    "    {\"car\" : \"Mustang\",\n",
    "     \"manufacturer\" : \"Ford\"},\n",
    "        {\"car\" : \"Fusion\",\n",
    "     \"manufacturer\" : \"Ford\"},\n",
    "    {\"car\" : \"Transit\",\n",
    "     \"manufacturer\" : \"Ford\"},\n",
    "    {\"car\" : \"Focus\",\n",
    "     \"manufacturer\" : \"Ford\"},\n",
    "    {\"car\" : \"Versa\",\n",
    "     \"manufacturer\" : \"Nissan\"},   \n",
    "    {\"car\" : \"Sentra\",\n",
    "     \"manufacturer\" : \"Nissan\"},\n",
    "    {\"car\" : \"Altima\",\n",
    "     \"manufacturer\" : \"Nissan\"},\n",
    "    {\"car\" : \"200\",\n",
    "     \"manufacturer\" : \"Chrysler\"},\n",
    "    {\"car\" : \"Camry\",\n",
    "     \"manufacturer\" : \"Toyota\"},\n",
    "    {\"car\" : \"Corolla\",\n",
    "     \"manufacturer\" : \"Toyota\"},\n",
    "    {\"car\" : \"Corolla\",\n",
    "     \"manufacturer\" : \"Toyota\"},\n",
    "    {\"car\" : \"Sierra\",\n",
    "     \"manufacturer\" : \"GMC\"},\n",
    "    {\"car\" : \"Charger\",\n",
    "     \"manufacturer\" : \"Dodge\"},\n",
    "    {\"car\" : \"Dart\",\n",
    "     \"manufacturer\" : \"Dodge\"},\n",
    "    {\"car\" : \"Sonata\",\n",
    "     \"manufacturer\" : \"Hyundai\"},\n",
    "    {\"car\" : \"Elantra\",\n",
    "     \"manufacturer\" : \"Hyundai\"},\n",
    "    {\"car\" : \"Civic\",\n",
    "     \"manufacturer\" : \"Honda\"},\n",
    "    {\"car\" : \"Accord\",\n",
    "     \"manufacturer\" : \"Honda\"},\n",
    "    \n",
    "]"
   ]
  },
  {
   "cell_type": "code",
   "execution_count": 3,
   "metadata": {},
   "outputs": [],
   "source": [
    "def get_manu(car):\n",
    "    return car['manufacturer']"
   ]
  },
  {
   "cell_type": "code",
   "execution_count": 14,
   "metadata": {},
   "outputs": [],
   "source": [
    "result = groupby(cars, get_manu)"
   ]
  },
  {
   "cell_type": "code",
   "execution_count": 5,
   "metadata": {},
   "outputs": [
    {
     "data": {
      "text/plain": [
       "<itertools.groupby at 0x12f5c1cd1c8>"
      ]
     },
     "execution_count": 5,
     "metadata": {},
     "output_type": "execute_result"
    }
   ],
   "source": [
    "result"
   ]
  },
  {
   "cell_type": "code",
   "execution_count": 11,
   "metadata": {},
   "outputs": [
    {
     "name": "stdout",
     "output_type": "stream",
     "text": [
      "Chevrolet 5\n",
      "Ford 4\n",
      "Nissan 3\n",
      "Chrysler 1\n",
      "Toyota 3\n",
      "GMC 1\n",
      "Dodge 2\n",
      "Hyundai 2\n",
      "Honda 2\n"
     ]
    }
   ],
   "source": [
    "for man, car in result:\n",
    "    print(man, len(list(car)))"
   ]
  },
  {
   "cell_type": "code",
   "execution_count": 12,
   "metadata": {},
   "outputs": [],
   "source": [
    "from operator import itemgetter"
   ]
  },
  {
   "cell_type": "code",
   "execution_count": 13,
   "metadata": {},
   "outputs": [],
   "source": [
    "def make_dict(groups):\n",
    "    data = {}\n",
    "    for k,v in groups:\n",
    "        data[k] = len(list(v))\n",
    "    return sorted(data.items(), key=itemgetter(1), reverse=True)  "
   ]
  },
  {
   "cell_type": "code",
   "execution_count": 15,
   "metadata": {},
   "outputs": [
    {
     "data": {
      "text/plain": [
       "[('Chevrolet', 5),\n",
       " ('Ford', 4),\n",
       " ('Nissan', 3),\n",
       " ('Toyota', 3),\n",
       " ('Dodge', 2),\n",
       " ('Hyundai', 2),\n",
       " ('Honda', 2),\n",
       " ('Chrysler', 1),\n",
       " ('GMC', 1)]"
      ]
     },
     "execution_count": 15,
     "metadata": {},
     "output_type": "execute_result"
    }
   ],
   "source": [
    "make_dict(result)"
   ]
  },
  {
   "cell_type": "code",
   "execution_count": null,
   "metadata": {},
   "outputs": [],
   "source": []
  }
 ],
 "metadata": {
  "kernelspec": {
   "display_name": "Python 3",
   "language": "python",
   "name": "python3"
  },
  "language_info": {
   "codemirror_mode": {
    "name": "ipython",
    "version": 3
   },
   "file_extension": ".py",
   "mimetype": "text/x-python",
   "name": "python",
   "nbconvert_exporter": "python",
   "pygments_lexer": "ipython3",
   "version": "3.7.5"
  }
 },
 "nbformat": 4,
 "nbformat_minor": 2
}
