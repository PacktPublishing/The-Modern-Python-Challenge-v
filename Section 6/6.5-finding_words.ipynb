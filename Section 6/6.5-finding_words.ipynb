{
 "cells": [
  {
   "cell_type": "markdown",
   "metadata": {},
   "source": [
    "# Get words out of combination of letters\n",
    "pip install pyenchant or nltk"
   ]
  },
  {
   "cell_type": "code",
   "execution_count": 1,
   "metadata": {},
   "outputs": [],
   "source": [
    "import random\n",
    "from itertools import permutations"
   ]
  },
  {
   "cell_type": "code",
   "execution_count": 2,
   "metadata": {},
   "outputs": [
    {
     "data": {
      "text/plain": [
       "26"
      ]
     },
     "execution_count": 2,
     "metadata": {},
     "output_type": "execute_result"
    }
   ],
   "source": [
    "letters = 'abcdefghijklmnopqrstuvwxyz'\n",
    "len(letters)"
   ]
  },
  {
   "cell_type": "code",
   "execution_count": 28,
   "metadata": {},
   "outputs": [
    {
     "data": {
      "text/plain": [
       "['q', 'g', 'i', 'n', 't', 'a', 'f']"
      ]
     },
     "execution_count": 28,
     "metadata": {},
     "output_type": "execute_result"
    }
   ],
   "source": [
    "scrabble =random.sample(letters, 7)\n",
    "scrabble"
   ]
  },
  {
   "cell_type": "code",
   "execution_count": 29,
   "metadata": {},
   "outputs": [],
   "source": [
    "def build_strings(letters):\n",
    "    possibles = []\n",
    "    combined = []\n",
    "    for index in range(3, len(letters) + 1):\n",
    "        possibles = list(permutations(letters,index))\n",
    "        for tup in possibles:\n",
    "            combined.append(\"\".join(tup))\n",
    "    return combined    "
   ]
  },
  {
   "cell_type": "code",
   "execution_count": 30,
   "metadata": {},
   "outputs": [],
   "source": [
    "strings = build_strings(scrabble)"
   ]
  },
  {
   "cell_type": "code",
   "execution_count": 31,
   "metadata": {},
   "outputs": [
    {
     "data": {
      "text/plain": [
       "13650"
      ]
     },
     "execution_count": 31,
     "metadata": {},
     "output_type": "execute_result"
    }
   ],
   "source": [
    "len(strings)"
   ]
  },
  {
   "cell_type": "code",
   "execution_count": 24,
   "metadata": {},
   "outputs": [],
   "source": [
    "import enchant"
   ]
  },
  {
   "cell_type": "code",
   "execution_count": 32,
   "metadata": {},
   "outputs": [],
   "source": [
    "eng = enchant.Dict(\"en_US\")\n",
    "words = []\n",
    "for word in strings:\n",
    "    if eng.check(word):\n",
    "        words.append(word)"
   ]
  },
  {
   "cell_type": "code",
   "execution_count": 33,
   "metadata": {},
   "outputs": [
    {
     "data": {
      "text/plain": [
       "38"
      ]
     },
     "execution_count": 33,
     "metadata": {},
     "output_type": "execute_result"
    }
   ],
   "source": [
    "len(words)"
   ]
  },
  {
   "cell_type": "code",
   "execution_count": 34,
   "metadata": {},
   "outputs": [
    {
     "data": {
      "text/plain": [
       "['gin',\n",
       " 'git',\n",
       " 'gan',\n",
       " 'gat',\n",
       " 'ign',\n",
       " 'int',\n",
       " 'inf',\n",
       " 'nit',\n",
       " 'nag',\n",
       " 'tin',\n",
       " 'tag',\n",
       " 'tan',\n",
       " 'ain',\n",
       " 'ait',\n",
       " 'ant',\n",
       " 'aft',\n",
       " 'fig',\n",
       " 'fin',\n",
       " 'fit',\n",
       " 'fag',\n",
       " 'fan',\n",
       " 'fat',\n",
       " 'gift',\n",
       " 'gnat',\n",
       " 'gain',\n",
       " 'gait',\n",
       " 'naif',\n",
       " 'ting',\n",
       " 'tain',\n",
       " 'tang',\n",
       " 'anti',\n",
       " 'fiat',\n",
       " 'fain',\n",
       " 'fang',\n",
       " 'giant',\n",
       " 'antiq',\n",
       " 'faint',\n",
       " 'fating']"
      ]
     },
     "execution_count": 34,
     "metadata": {},
     "output_type": "execute_result"
    }
   ],
   "source": [
    "words"
   ]
  },
  {
   "cell_type": "code",
   "execution_count": null,
   "metadata": {},
   "outputs": [],
   "source": []
  }
 ],
 "metadata": {
  "kernelspec": {
   "display_name": "Python 3",
   "language": "python",
   "name": "python3"
  },
  "language_info": {
   "codemirror_mode": {
    "name": "ipython",
    "version": 3
   },
   "file_extension": ".py",
   "mimetype": "text/x-python",
   "name": "python",
   "nbconvert_exporter": "python",
   "pygments_lexer": "ipython3",
   "version": "3.7.5"
  }
 },
 "nbformat": 4,
 "nbformat_minor": 2
}
