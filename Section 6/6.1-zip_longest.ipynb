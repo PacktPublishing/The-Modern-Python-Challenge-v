{
 "cells": [
  {
   "cell_type": "markdown",
   "metadata": {},
   "source": [
    "# Fix Truncating zip"
   ]
  },
  {
   "cell_type": "code",
   "execution_count": 1,
   "metadata": {},
   "outputs": [],
   "source": [
    "import datetime as dt\n",
    "dates =[\"{:%Y-%m-%d}\".format(dt.date.today() + dt.timedelta(days=x)) for x in range(10)]\n",
    "days = ['Day 1', 'Day 2', 'Day 3', 'Day 4']\n",
    "classes = ['Python', 'Java', 'HTML','Javascript','SQL' ]"
   ]
  },
  {
   "cell_type": "code",
   "execution_count": 2,
   "metadata": {},
   "outputs": [
    {
     "data": {
      "text/plain": [
       "[('2020-03-13', 'Day 1', 'Python'),\n",
       " ('2020-03-14', 'Day 2', 'Java'),\n",
       " ('2020-03-15', 'Day 3', 'HTML'),\n",
       " ('2020-03-16', 'Day 4', 'Javascript')]"
      ]
     },
     "execution_count": 2,
     "metadata": {},
     "output_type": "execute_result"
    }
   ],
   "source": [
    "list(zip(dates, days, classes))"
   ]
  },
  {
   "cell_type": "code",
   "execution_count": 3,
   "metadata": {},
   "outputs": [],
   "source": [
    "from itertools import zip_longest"
   ]
  },
  {
   "cell_type": "code",
   "execution_count": 4,
   "metadata": {},
   "outputs": [
    {
     "data": {
      "text/plain": [
       "[('2020-03-13', 'Day 1', 'Python'),\n",
       " ('2020-03-14', 'Day 2', 'Java'),\n",
       " ('2020-03-15', 'Day 3', 'HTML'),\n",
       " ('2020-03-16', 'Day 4', 'Javascript'),\n",
       " ('2020-03-17', None, 'SQL'),\n",
       " ('2020-03-18', None, None),\n",
       " ('2020-03-19', None, None),\n",
       " ('2020-03-20', None, None),\n",
       " ('2020-03-21', None, None),\n",
       " ('2020-03-22', None, None)]"
      ]
     },
     "execution_count": 4,
     "metadata": {},
     "output_type": "execute_result"
    }
   ],
   "source": [
    "list(zip_longest(dates,days,classes))"
   ]
  },
  {
   "cell_type": "code",
   "execution_count": 5,
   "metadata": {},
   "outputs": [],
   "source": [
    "from itertools import cycle"
   ]
  },
  {
   "cell_type": "code",
   "execution_count": 7,
   "metadata": {},
   "outputs": [
    {
     "data": {
      "text/plain": [
       "[('2020-03-13', 'Day 1', 'Python'),\n",
       " ('2020-03-14', 'Day 2', 'Java'),\n",
       " ('2020-03-15', 'Day 3', 'HTML'),\n",
       " ('2020-03-16', 'Day 4', 'Javascript'),\n",
       " ('2020-03-17', 'Day 1', 'SQL'),\n",
       " ('2020-03-18', 'Day 2', 'Python'),\n",
       " ('2020-03-19', 'Day 3', 'Java'),\n",
       " ('2020-03-20', 'Day 4', 'HTML'),\n",
       " ('2020-03-21', 'Day 1', 'Javascript'),\n",
       " ('2020-03-22', 'Day 2', 'SQL')]"
      ]
     },
     "execution_count": 7,
     "metadata": {},
     "output_type": "execute_result"
    }
   ],
   "source": [
    "list(zip(dates, cycle(days), cycle(classes)))"
   ]
  },
  {
   "cell_type": "code",
   "execution_count": 8,
   "metadata": {},
   "outputs": [
    {
     "data": {
      "text/plain": [
       "<itertools.cycle at 0x22a215f4688>"
      ]
     },
     "execution_count": 8,
     "metadata": {},
     "output_type": "execute_result"
    }
   ],
   "source": [
    "day_cycle = cycle(days)\n",
    "day_cycle"
   ]
  },
  {
   "cell_type": "code",
   "execution_count": 9,
   "metadata": {},
   "outputs": [
    {
     "name": "stdout",
     "output_type": "stream",
     "text": [
      "Day 1\n",
      "Day 2\n",
      "Day 3\n",
      "Day 4\n",
      "Day 1\n",
      "Day 2\n",
      "Day 3\n",
      "Day 4\n",
      "Day 1\n",
      "Day 2\n"
     ]
    }
   ],
   "source": [
    "for day in range(10):\n",
    "    print(next(day_cycle))"
   ]
  },
  {
   "cell_type": "code",
   "execution_count": null,
   "metadata": {},
   "outputs": [],
   "source": []
  },
  {
   "cell_type": "code",
   "execution_count": null,
   "metadata": {},
   "outputs": [],
   "source": []
  },
  {
   "cell_type": "code",
   "execution_count": null,
   "metadata": {},
   "outputs": [],
   "source": []
  }
 ],
 "metadata": {
  "kernelspec": {
   "display_name": "Python 3",
   "language": "python",
   "name": "python3"
  },
  "language_info": {
   "codemirror_mode": {
    "name": "ipython",
    "version": 3
   },
   "file_extension": ".py",
   "mimetype": "text/x-python",
   "name": "python",
   "nbconvert_exporter": "python",
   "pygments_lexer": "ipython3",
   "version": "3.7.5"
  }
 },
 "nbformat": 4,
 "nbformat_minor": 2
}
